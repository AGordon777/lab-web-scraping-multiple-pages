{
 "cells": [
  {
   "cell_type": "markdown",
   "metadata": {},
   "source": [
    "# Lab | Web Scraping Multiple Pages\n",
    "\n",
    "### Instructions Part 2"
   ]
  },
  {
   "cell_type": "markdown",
   "metadata": {},
   "source": [
    "Create a Python list with the top ten FBI's Most Wanted names: url = 'https://www.fbi.gov/wanted/topten'"
   ]
  },
  {
   "cell_type": "code",
   "execution_count": 1,
   "metadata": {},
   "outputs": [],
   "source": [
    "from bs4 import BeautifulSoup\n",
    "import requests\n",
    "import pandas as pd\n",
    "import random\n",
    "from time import sleep"
   ]
  },
  {
   "cell_type": "code",
   "execution_count": 2,
   "metadata": {},
   "outputs": [
    {
     "data": {
      "text/plain": [
       "200"
      ]
     },
     "execution_count": 2,
     "metadata": {},
     "output_type": "execute_result"
    }
   ],
   "source": [
    "url = \"https://www.fbi.gov/wanted/topten\"\n",
    "response = requests.get(url)\n",
    "response.status_code # 200 status code means OK!"
   ]
  },
  {
   "cell_type": "code",
   "execution_count": 3,
   "metadata": {},
   "outputs": [],
   "source": [
    "soup = BeautifulSoup(response.content, \"html.parser\")\n",
    "#soup"
   ]
  },
  {
   "cell_type": "code",
   "execution_count": 4,
   "metadata": {},
   "outputs": [
    {
     "data": {
      "text/plain": [
       "['https://www.fbi.gov/wanted/topten/alejandro-castillo',\n",
       " 'https://www.fbi.gov/wanted/topten/ruja-ignatova',\n",
       " 'https://www.fbi.gov/wanted/topten/donald-eugene-fields-ii',\n",
       " 'https://www.fbi.gov/wanted/topten/alexis-flores',\n",
       " 'https://www.fbi.gov/wanted/topten/arnoldo-jimenez',\n",
       " 'https://www.fbi.gov/wanted/topten/omar-alexander-cardenas',\n",
       " 'https://www.fbi.gov/wanted/topten/yulan-adonay-archaga-carias',\n",
       " 'https://www.fbi.gov/wanted/topten/bhadreshkumar-chetanbhai-patel',\n",
       " 'https://www.fbi.gov/wanted/topten/wilver-villegas-palomino',\n",
       " 'https://www.fbi.gov/wanted/topten/jose-rodolfo-villarreal-hernandez']"
      ]
     },
     "execution_count": 4,
     "metadata": {},
     "output_type": "execute_result"
    }
   ],
   "source": [
    "fugitive_links = []\n",
    "for link in soup.select('h3.title > a'):\n",
    "    fugitive_links.append(link['href'])\n",
    "\n",
    "fugitive_links"
   ]
  },
  {
   "cell_type": "code",
   "execution_count": 5,
   "metadata": {},
   "outputs": [],
   "source": [
    "soup1 = BeautifulSoup(requests.get(fugitive_links[0]).content, \"html.parser\") # trying with the first one\n",
    "#soup1"
   ]
  },
  {
   "cell_type": "code",
   "execution_count": 6,
   "metadata": {},
   "outputs": [
    {
     "data": {
      "text/plain": [
       "[<p>Alexandro Castillo, Alex Castillo, Alejandro Rosales, Alejandro Castillo, Alejandro Rosales-Castillo, Alejandro Rosalescastillo</p>]"
      ]
     },
     "execution_count": 6,
     "metadata": {},
     "output_type": "execute_result"
    }
   ],
   "source": [
    "soup1.select(\"#content-core > div > div > h1\")\n",
    "soup1.select(\"#content-core > div > div > p\")\n",
    "soup1.select(\"#content-core > div > div > div.wanted-person-aliases > p\")"
   ]
  },
  {
   "cell_type": "code",
   "execution_count": 7,
   "metadata": {},
   "outputs": [
    {
     "name": "stdout",
     "output_type": "stream",
     "text": [
      "I will sleep for 0.282 second/s.\n",
      "I will sleep for 3.202 second/s.\n",
      "I will sleep for 2.402 second/s.\n",
      "I will sleep for 0.466 second/s.\n",
      "I will sleep for 0.639 second/s.\n",
      "I will sleep for 0.143 second/s.\n",
      "I will sleep for 2.599 second/s.\n",
      "I will sleep for 3.669 second/s.\n",
      "I will sleep for 3.567 second/s.\n",
      "I will sleep for 3.346 second/s.\n"
     ]
    }
   ],
   "source": [
    "names = [] \n",
    "crimes = []\n",
    "aliases = []\n",
    "\n",
    "# this pulls in only the info needed from each page\n",
    "\n",
    "for i in fugitive_links:\n",
    "    soup1 = BeautifulSoup(requests.get(i).content, \"html.parser\")\n",
    "    \n",
    "    try:\n",
    "        names.append(soup1.select(\"#content-core > div > div > h1\")[0].get_text())\n",
    "    except:\n",
    "        names.append('NA')\n",
    "    \n",
    "    try:\n",
    "        crimes.append(soup1.select(\"#content-core > div > div > p\")[0].get_text())\n",
    "    except:\n",
    "        crimes.append('NA')\n",
    "    \n",
    "    try:\n",
    "        aliases.append(soup1.select(\"#content-core > div > div > div.wanted-person-aliases > p\")[0].get_text())\n",
    "    except:\n",
    "        aliases.append('NA')\n",
    "\n",
    "    wait_time = random.randint(1,4000)\n",
    "    print(\"I will sleep for \" + str(wait_time/1000) + \" second/s.\")\n",
    "    sleep(wait_time/1000)"
   ]
  },
  {
   "cell_type": "code",
   "execution_count": 8,
   "metadata": {},
   "outputs": [
    {
     "data": {
      "text/plain": [
       "['ALEJANDRO ROSALES CASTILLO',\n",
       " 'RUJA IGNATOVA',\n",
       " 'DONALD EUGENE FIELDS II',\n",
       " 'ALEXIS FLORES',\n",
       " 'ARNOLDO JIMENEZ',\n",
       " 'OMAR ALEXANDER CARDENAS',\n",
       " 'YULAN ADONAY ARCHAGA CARIAS',\n",
       " 'BHADRESHKUMAR CHETANBHAI PATEL',\n",
       " 'WILVER VILLEGAS-PALOMINO',\n",
       " 'JOSE RODOLFO VILLARREAL-HERNANDEZ']"
      ]
     },
     "execution_count": 8,
     "metadata": {},
     "output_type": "execute_result"
    }
   ],
   "source": [
    "names"
   ]
  },
  {
   "cell_type": "code",
   "execution_count": 9,
   "metadata": {},
   "outputs": [
    {
     "data": {
      "text/html": [
       "<div>\n",
       "<style scoped>\n",
       "    .dataframe tbody tr th:only-of-type {\n",
       "        vertical-align: middle;\n",
       "    }\n",
       "\n",
       "    .dataframe tbody tr th {\n",
       "        vertical-align: top;\n",
       "    }\n",
       "\n",
       "    .dataframe thead th {\n",
       "        text-align: right;\n",
       "    }\n",
       "</style>\n",
       "<table border=\"1\" class=\"dataframe\">\n",
       "  <thead>\n",
       "    <tr style=\"text-align: right;\">\n",
       "      <th></th>\n",
       "      <th>Name</th>\n",
       "      <th>Wanted For</th>\n",
       "      <th>Alias</th>\n",
       "    </tr>\n",
       "  </thead>\n",
       "  <tbody>\n",
       "    <tr>\n",
       "      <th>0</th>\n",
       "      <td>ALEJANDRO ROSALES CASTILLO</td>\n",
       "      <td>Unlawful Flight to Avoid Prosecution - Murder</td>\n",
       "      <td>Alexandro Castillo, Alex Castillo, Alejandro R...</td>\n",
       "    </tr>\n",
       "    <tr>\n",
       "      <th>1</th>\n",
       "      <td>RUJA IGNATOVA</td>\n",
       "      <td>Conspiracy to Commit Wire Fraud; Wire Fraud; C...</td>\n",
       "      <td>Dr. Ruja Ignatova, Ruja Plamenova Ignatova, Ru...</td>\n",
       "    </tr>\n",
       "    <tr>\n",
       "      <th>2</th>\n",
       "      <td>DONALD EUGENE FIELDS II</td>\n",
       "      <td>Sex Trafficking of Children</td>\n",
       "      <td>Don Fields, Donald Eugene Fields Jr., Eugene F...</td>\n",
       "    </tr>\n",
       "    <tr>\n",
       "      <th>3</th>\n",
       "      <td>ALEXIS FLORES</td>\n",
       "      <td>Unlawful Flight to Avoid Prosecution - Kidnapp...</td>\n",
       "      <td>Mario Flores, Mario Roberto Flores, Mario F. R...</td>\n",
       "    </tr>\n",
       "    <tr>\n",
       "      <th>4</th>\n",
       "      <td>ARNOLDO JIMENEZ</td>\n",
       "      <td>Unlawful Flight to Avoid Prosecution - First D...</td>\n",
       "      <td>Arnoldo Gimenez, Arnoldo Rochel Jimenez</td>\n",
       "    </tr>\n",
       "    <tr>\n",
       "      <th>5</th>\n",
       "      <td>OMAR ALEXANDER CARDENAS</td>\n",
       "      <td>Unlawful Flight to Avoid Prosecution - Murder</td>\n",
       "      <td>NA</td>\n",
       "    </tr>\n",
       "    <tr>\n",
       "      <th>6</th>\n",
       "      <td>YULAN ADONAY ARCHAGA CARIAS</td>\n",
       "      <td>Racketeering Conspiracy (RICO); Cocaine Import...</td>\n",
       "      <td>Alexander Mendoza, Yulan Andony Archaga Carias...</td>\n",
       "    </tr>\n",
       "    <tr>\n",
       "      <th>7</th>\n",
       "      <td>BHADRESHKUMAR CHETANBHAI PATEL</td>\n",
       "      <td>Unlawful Flight to Avoid Prosecution - First D...</td>\n",
       "      <td>Bhadreshkumar C. Patel</td>\n",
       "    </tr>\n",
       "    <tr>\n",
       "      <th>8</th>\n",
       "      <td>WILVER VILLEGAS-PALOMINO</td>\n",
       "      <td>Narco-Terrorism; International Cocaine Distrib...</td>\n",
       "      <td>Carlos El Puerco, El Puerco, Wilver Villegas, ...</td>\n",
       "    </tr>\n",
       "    <tr>\n",
       "      <th>9</th>\n",
       "      <td>JOSE RODOLFO VILLARREAL-HERNANDEZ</td>\n",
       "      <td>Interstate Stalking and Conspiracy to Commit M...</td>\n",
       "      <td>\"El Gato\"</td>\n",
       "    </tr>\n",
       "  </tbody>\n",
       "</table>\n",
       "</div>"
      ],
      "text/plain": [
       "                                Name  \\\n",
       "0         ALEJANDRO ROSALES CASTILLO   \n",
       "1                      RUJA IGNATOVA   \n",
       "2            DONALD EUGENE FIELDS II   \n",
       "3                      ALEXIS FLORES   \n",
       "4                    ARNOLDO JIMENEZ   \n",
       "5            OMAR ALEXANDER CARDENAS   \n",
       "6        YULAN ADONAY ARCHAGA CARIAS   \n",
       "7     BHADRESHKUMAR CHETANBHAI PATEL   \n",
       "8           WILVER VILLEGAS-PALOMINO   \n",
       "9  JOSE RODOLFO VILLARREAL-HERNANDEZ   \n",
       "\n",
       "                                          Wanted For  \\\n",
       "0      Unlawful Flight to Avoid Prosecution - Murder   \n",
       "1  Conspiracy to Commit Wire Fraud; Wire Fraud; C...   \n",
       "2                        Sex Trafficking of Children   \n",
       "3  Unlawful Flight to Avoid Prosecution - Kidnapp...   \n",
       "4  Unlawful Flight to Avoid Prosecution - First D...   \n",
       "5      Unlawful Flight to Avoid Prosecution - Murder   \n",
       "6  Racketeering Conspiracy (RICO); Cocaine Import...   \n",
       "7  Unlawful Flight to Avoid Prosecution - First D...   \n",
       "8  Narco-Terrorism; International Cocaine Distrib...   \n",
       "9  Interstate Stalking and Conspiracy to Commit M...   \n",
       "\n",
       "                                               Alias  \n",
       "0  Alexandro Castillo, Alex Castillo, Alejandro R...  \n",
       "1  Dr. Ruja Ignatova, Ruja Plamenova Ignatova, Ru...  \n",
       "2  Don Fields, Donald Eugene Fields Jr., Eugene F...  \n",
       "3  Mario Flores, Mario Roberto Flores, Mario F. R...  \n",
       "4            Arnoldo Gimenez, Arnoldo Rochel Jimenez  \n",
       "5                                                 NA  \n",
       "6  Alexander Mendoza, Yulan Andony Archaga Carias...  \n",
       "7                             Bhadreshkumar C. Patel  \n",
       "8  Carlos El Puerco, El Puerco, Wilver Villegas, ...  \n",
       "9                                          \"El Gato\"  "
      ]
     },
     "execution_count": 9,
     "metadata": {},
     "output_type": "execute_result"
    }
   ],
   "source": [
    "most_wanted = pd.DataFrame({\"Name\":names,\"Wanted For\":crimes,\"Alias\":aliases})\n",
    "most_wanted"
   ]
  },
  {
   "cell_type": "code",
   "execution_count": null,
   "metadata": {},
   "outputs": [],
   "source": []
  },
  {
   "cell_type": "markdown",
   "metadata": {},
   "source": [
    "Display the top 10 languages by number of native speakers stored in a pandas dataframe: url = 'https://en.wikipedia.org/wiki/List_of_languages_by_number_of_native_speakers'"
   ]
  },
  {
   "cell_type": "code",
   "execution_count": 2,
   "metadata": {},
   "outputs": [],
   "source": [
    "url2 = 'https://en.wikipedia.org/wiki/List_of_languages_by_number_of_native_speakers'"
   ]
  },
  {
   "cell_type": "code",
   "execution_count": 3,
   "metadata": {},
   "outputs": [
    {
     "name": "stdout",
     "output_type": "stream",
     "text": [
      "200\n"
     ]
    }
   ],
   "source": [
    "response2 = requests.get(url2)\n",
    "print(response2.status_code)\n",
    "soup2 = BeautifulSoup(response2.content, \"html.parser\")\n",
    "#soup2"
   ]
  },
  {
   "cell_type": "code",
   "execution_count": 4,
   "metadata": {},
   "outputs": [
    {
     "data": {
      "text/plain": [
       "['Mandarin Chinese',\n",
       " 'Spanish',\n",
       " 'English',\n",
       " 'Arabic',\n",
       " 'Hindi',\n",
       " 'Bengali',\n",
       " 'Portuguese',\n",
       " 'Russian',\n",
       " 'Japanese',\n",
       " 'Western Punjabi',\n",
       " 'Javanese']"
      ]
     },
     "execution_count": 4,
     "metadata": {},
     "output_type": "execute_result"
    }
   ],
   "source": [
    "table = soup2.select(\"table\")[1]\n",
    "\n",
    "languages = []\n",
    "\n",
    "for i in table.select(\"tr td a\"):\n",
    "    languages.append(i.get_text())\n",
    "\n",
    "languages"
   ]
  },
  {
   "cell_type": "code",
   "execution_count": 22,
   "metadata": {},
   "outputs": [
    {
     "data": {
      "text/plain": [
       "<td><a class=\"mw-redirect\" href=\"/wiki/ISO_639:cmn\" title=\"ISO 639:cmn\">Mandarin Chinese</a><br/>(incl. <a href=\"/wiki/Standard_Chinese\" title=\"Standard Chinese\">Standard Chinese</a>, but excl. <a href=\"/wiki/Varieties_of_Chinese\" title=\"Varieties of Chinese\">other varieties</a>)\n",
       "</td>"
      ]
     },
     "execution_count": 22,
     "metadata": {},
     "output_type": "execute_result"
    }
   ],
   "source": [
    "soup2.select('td:nth-child(1)')"
   ]
  },
  {
   "cell_type": "code",
   "execution_count": 28,
   "metadata": {},
   "outputs": [],
   "source": [
    "languages1=[]\n",
    "speaker_counts=[]\n",
    "family=[]\n",
    "\n",
    "for n in range(0,10):\n",
    "    languages1.append(soup2.select('td:nth-child(1)')[n].get_text().strip())\n",
    "    speaker_counts.append(soup2.select('td:nth-child(2)')[n].get_text().strip())\n",
    "    family.append(soup2.select('td:nth-child(4)')[n].get_text().strip())"
   ]
  },
  {
   "cell_type": "code",
   "execution_count": 29,
   "metadata": {},
   "outputs": [
    {
     "data": {
      "text/html": [
       "<div>\n",
       "<style scoped>\n",
       "    .dataframe tbody tr th:only-of-type {\n",
       "        vertical-align: middle;\n",
       "    }\n",
       "\n",
       "    .dataframe tbody tr th {\n",
       "        vertical-align: top;\n",
       "    }\n",
       "\n",
       "    .dataframe thead th {\n",
       "        text-align: right;\n",
       "    }\n",
       "</style>\n",
       "<table border=\"1\" class=\"dataframe\">\n",
       "  <thead>\n",
       "    <tr style=\"text-align: right;\">\n",
       "      <th></th>\n",
       "      <th>Language</th>\n",
       "      <th>Speakers/m</th>\n",
       "      <th>Family</th>\n",
       "    </tr>\n",
       "  </thead>\n",
       "  <tbody>\n",
       "    <tr>\n",
       "      <th>0</th>\n",
       "      <td>Mandarin Chinese(incl. Standard Chinese, but e...</td>\n",
       "      <td>939</td>\n",
       "      <td>Sinitic</td>\n",
       "    </tr>\n",
       "    <tr>\n",
       "      <th>1</th>\n",
       "      <td>Spanish</td>\n",
       "      <td>485</td>\n",
       "      <td>Romance</td>\n",
       "    </tr>\n",
       "    <tr>\n",
       "      <th>2</th>\n",
       "      <td>English</td>\n",
       "      <td>380</td>\n",
       "      <td>Germanic</td>\n",
       "    </tr>\n",
       "    <tr>\n",
       "      <th>3</th>\n",
       "      <td>Hindi(excl. Urdu, and other languages)</td>\n",
       "      <td>345</td>\n",
       "      <td>Indo-Aryan</td>\n",
       "    </tr>\n",
       "    <tr>\n",
       "      <th>4</th>\n",
       "      <td>Portuguese</td>\n",
       "      <td>236</td>\n",
       "      <td>Romance</td>\n",
       "    </tr>\n",
       "    <tr>\n",
       "      <th>5</th>\n",
       "      <td>Bengali</td>\n",
       "      <td>234</td>\n",
       "      <td>Indo-Aryan</td>\n",
       "    </tr>\n",
       "    <tr>\n",
       "      <th>6</th>\n",
       "      <td>Russian</td>\n",
       "      <td>147</td>\n",
       "      <td>Balto-Slavic</td>\n",
       "    </tr>\n",
       "    <tr>\n",
       "      <th>7</th>\n",
       "      <td>Japanese</td>\n",
       "      <td>123</td>\n",
       "      <td>Japanese</td>\n",
       "    </tr>\n",
       "    <tr>\n",
       "      <th>8</th>\n",
       "      <td>Yue Chinese(incl. Cantonese)</td>\n",
       "      <td>86.1</td>\n",
       "      <td>Sinitic</td>\n",
       "    </tr>\n",
       "    <tr>\n",
       "      <th>9</th>\n",
       "      <td>Vietnamese</td>\n",
       "      <td>85.0</td>\n",
       "      <td>Vietic</td>\n",
       "    </tr>\n",
       "  </tbody>\n",
       "</table>\n",
       "</div>"
      ],
      "text/plain": [
       "                                            Language Speakers/m        Family\n",
       "0  Mandarin Chinese(incl. Standard Chinese, but e...        939       Sinitic\n",
       "1                                            Spanish        485       Romance\n",
       "2                                            English        380      Germanic\n",
       "3             Hindi(excl. Urdu, and other languages)        345    Indo-Aryan\n",
       "4                                         Portuguese        236       Romance\n",
       "5                                            Bengali        234    Indo-Aryan\n",
       "6                                            Russian        147  Balto-Slavic\n",
       "7                                           Japanese        123      Japanese\n",
       "8                       Yue Chinese(incl. Cantonese)       86.1       Sinitic\n",
       "9                                         Vietnamese       85.0        Vietic"
      ]
     },
     "execution_count": 29,
     "metadata": {},
     "output_type": "execute_result"
    }
   ],
   "source": [
    "data2 = pd.DataFrame({\"Language\":languages1,\"Speakers/m\":speaker_counts,\"Family\":family})\n",
    "data2"
   ]
  },
  {
   "cell_type": "code",
   "execution_count": null,
   "metadata": {},
   "outputs": [],
   "source": []
  },
  {
   "cell_type": "markdown",
   "metadata": {},
   "source": [
    "A list with the different kind of datasets available in data.gov.uk: url = 'https://www.data.gov.uk/'"
   ]
  },
  {
   "cell_type": "code",
   "execution_count": 14,
   "metadata": {},
   "outputs": [
    {
     "name": "stdout",
     "output_type": "stream",
     "text": [
      "200\n"
     ]
    }
   ],
   "source": [
    "url3 = 'https://www.data.gov.uk'\n",
    "response3 = requests.get(url3)\n",
    "print(response3.status_code)\n",
    "soup3 = BeautifulSoup(response3.content, \"html.parser\")\n",
    "#soup3"
   ]
  },
  {
   "cell_type": "code",
   "execution_count": 15,
   "metadata": {},
   "outputs": [
    {
     "data": {
      "text/plain": [
       "['Business and economy',\n",
       " 'Crime and justice',\n",
       " 'Defence',\n",
       " 'Education',\n",
       " 'Environment',\n",
       " 'Government',\n",
       " 'Government spending',\n",
       " 'Health',\n",
       " 'Mapping',\n",
       " 'Society',\n",
       " 'Towns and cities',\n",
       " 'Transport',\n",
       " 'Digital service performance',\n",
       " 'Government reference data']"
      ]
     },
     "execution_count": 15,
     "metadata": {},
     "output_type": "execute_result"
    }
   ],
   "source": [
    "departments = []\n",
    "\n",
    "for e in soup3.select('h3'):\n",
    "    departments.append(e.get_text())\n",
    "    \n",
    "departments"
   ]
  },
  {
   "cell_type": "code",
   "execution_count": 16,
   "metadata": {},
   "outputs": [
    {
     "data": {
      "text/plain": [
       "[<a class=\"govuk-link\" href=\"/search?filters%5Btopic%5D=Business+and+economy\">Business and economy</a>,\n",
       " <a class=\"govuk-link\" href=\"/search?filters%5Btopic%5D=Crime+and+justice\">Crime and justice</a>,\n",
       " <a class=\"govuk-link\" href=\"/search?filters%5Btopic%5D=Defence\">Defence</a>,\n",
       " <a class=\"govuk-link\" href=\"/search?filters%5Btopic%5D=Education\">Education</a>,\n",
       " <a class=\"govuk-link\" href=\"/search?filters%5Btopic%5D=Environment\">Environment</a>,\n",
       " <a class=\"govuk-link\" href=\"/search?filters%5Btopic%5D=Government\">Government</a>,\n",
       " <a class=\"govuk-link\" href=\"/search?filters%5Btopic%5D=Government+spending\">Government spending</a>,\n",
       " <a class=\"govuk-link\" href=\"/search?filters%5Btopic%5D=Health\">Health</a>,\n",
       " <a class=\"govuk-link\" href=\"/search?filters%5Btopic%5D=Mapping\">Mapping</a>,\n",
       " <a class=\"govuk-link\" href=\"/search?filters%5Btopic%5D=Society\">Society</a>,\n",
       " <a class=\"govuk-link\" href=\"/search?filters%5Btopic%5D=Towns+and+cities\">Towns and cities</a>,\n",
       " <a class=\"govuk-link\" href=\"/search?filters%5Btopic%5D=Transport\">Transport</a>,\n",
       " <a class=\"govuk-link\" href=\"/search?filters%5Btopic%5D=Digital+service+performance\">Digital service performance</a>,\n",
       " <a class=\"govuk-link\" href=\"/search?filters%5Btopic%5D=Government+reference+data\">Government reference data</a>]"
      ]
     },
     "execution_count": 16,
     "metadata": {},
     "output_type": "execute_result"
    }
   ],
   "source": [
    "soup3.select('h3 a')"
   ]
  },
  {
   "cell_type": "code",
   "execution_count": 17,
   "metadata": {},
   "outputs": [
    {
     "data": {
      "text/plain": [
       "['https://www.data.gov.uk/search?filters%5Btopic%5D=Business+and+economy',\n",
       " 'https://www.data.gov.uk/search?filters%5Btopic%5D=Crime+and+justice',\n",
       " 'https://www.data.gov.uk/search?filters%5Btopic%5D=Defence',\n",
       " 'https://www.data.gov.uk/search?filters%5Btopic%5D=Education',\n",
       " 'https://www.data.gov.uk/search?filters%5Btopic%5D=Environment',\n",
       " 'https://www.data.gov.uk/search?filters%5Btopic%5D=Government',\n",
       " 'https://www.data.gov.uk/search?filters%5Btopic%5D=Government+spending',\n",
       " 'https://www.data.gov.uk/search?filters%5Btopic%5D=Health',\n",
       " 'https://www.data.gov.uk/search?filters%5Btopic%5D=Mapping',\n",
       " 'https://www.data.gov.uk/search?filters%5Btopic%5D=Society',\n",
       " 'https://www.data.gov.uk/search?filters%5Btopic%5D=Towns+and+cities',\n",
       " 'https://www.data.gov.uk/search?filters%5Btopic%5D=Transport',\n",
       " 'https://www.data.gov.uk/search?filters%5Btopic%5D=Digital+service+performance',\n",
       " 'https://www.data.gov.uk/search?filters%5Btopic%5D=Government+reference+data']"
      ]
     },
     "execution_count": 17,
     "metadata": {},
     "output_type": "execute_result"
    }
   ],
   "source": [
    "links2 = []\n",
    "\n",
    "for e in soup3.select('h3 a'):\n",
    "    links2.append(url3+e[\"href\"])\n",
    "    \n",
    "links2"
   ]
  },
  {
   "cell_type": "code",
   "execution_count": 18,
   "metadata": {},
   "outputs": [
    {
     "data": {
      "text/html": [
       "<div>\n",
       "<style scoped>\n",
       "    .dataframe tbody tr th:only-of-type {\n",
       "        vertical-align: middle;\n",
       "    }\n",
       "\n",
       "    .dataframe tbody tr th {\n",
       "        vertical-align: top;\n",
       "    }\n",
       "\n",
       "    .dataframe thead th {\n",
       "        text-align: right;\n",
       "    }\n",
       "</style>\n",
       "<table border=\"1\" class=\"dataframe\">\n",
       "  <thead>\n",
       "    <tr style=\"text-align: right;\">\n",
       "      <th></th>\n",
       "      <th>Department</th>\n",
       "      <th>Link To Data</th>\n",
       "    </tr>\n",
       "  </thead>\n",
       "  <tbody>\n",
       "    <tr>\n",
       "      <th>0</th>\n",
       "      <td>Business and economy</td>\n",
       "      <td>https://www.data.gov.uk/search?filters%5Btopic...</td>\n",
       "    </tr>\n",
       "    <tr>\n",
       "      <th>1</th>\n",
       "      <td>Crime and justice</td>\n",
       "      <td>https://www.data.gov.uk/search?filters%5Btopic...</td>\n",
       "    </tr>\n",
       "    <tr>\n",
       "      <th>2</th>\n",
       "      <td>Defence</td>\n",
       "      <td>https://www.data.gov.uk/search?filters%5Btopic...</td>\n",
       "    </tr>\n",
       "    <tr>\n",
       "      <th>3</th>\n",
       "      <td>Education</td>\n",
       "      <td>https://www.data.gov.uk/search?filters%5Btopic...</td>\n",
       "    </tr>\n",
       "    <tr>\n",
       "      <th>4</th>\n",
       "      <td>Environment</td>\n",
       "      <td>https://www.data.gov.uk/search?filters%5Btopic...</td>\n",
       "    </tr>\n",
       "    <tr>\n",
       "      <th>5</th>\n",
       "      <td>Government</td>\n",
       "      <td>https://www.data.gov.uk/search?filters%5Btopic...</td>\n",
       "    </tr>\n",
       "    <tr>\n",
       "      <th>6</th>\n",
       "      <td>Government spending</td>\n",
       "      <td>https://www.data.gov.uk/search?filters%5Btopic...</td>\n",
       "    </tr>\n",
       "    <tr>\n",
       "      <th>7</th>\n",
       "      <td>Health</td>\n",
       "      <td>https://www.data.gov.uk/search?filters%5Btopic...</td>\n",
       "    </tr>\n",
       "    <tr>\n",
       "      <th>8</th>\n",
       "      <td>Mapping</td>\n",
       "      <td>https://www.data.gov.uk/search?filters%5Btopic...</td>\n",
       "    </tr>\n",
       "    <tr>\n",
       "      <th>9</th>\n",
       "      <td>Society</td>\n",
       "      <td>https://www.data.gov.uk/search?filters%5Btopic...</td>\n",
       "    </tr>\n",
       "    <tr>\n",
       "      <th>10</th>\n",
       "      <td>Towns and cities</td>\n",
       "      <td>https://www.data.gov.uk/search?filters%5Btopic...</td>\n",
       "    </tr>\n",
       "    <tr>\n",
       "      <th>11</th>\n",
       "      <td>Transport</td>\n",
       "      <td>https://www.data.gov.uk/search?filters%5Btopic...</td>\n",
       "    </tr>\n",
       "    <tr>\n",
       "      <th>12</th>\n",
       "      <td>Digital service performance</td>\n",
       "      <td>https://www.data.gov.uk/search?filters%5Btopic...</td>\n",
       "    </tr>\n",
       "    <tr>\n",
       "      <th>13</th>\n",
       "      <td>Government reference data</td>\n",
       "      <td>https://www.data.gov.uk/search?filters%5Btopic...</td>\n",
       "    </tr>\n",
       "  </tbody>\n",
       "</table>\n",
       "</div>"
      ],
      "text/plain": [
       "                     Department  \\\n",
       "0          Business and economy   \n",
       "1             Crime and justice   \n",
       "2                       Defence   \n",
       "3                     Education   \n",
       "4                   Environment   \n",
       "5                    Government   \n",
       "6           Government spending   \n",
       "7                        Health   \n",
       "8                       Mapping   \n",
       "9                       Society   \n",
       "10             Towns and cities   \n",
       "11                    Transport   \n",
       "12  Digital service performance   \n",
       "13    Government reference data   \n",
       "\n",
       "                                         Link To Data  \n",
       "0   https://www.data.gov.uk/search?filters%5Btopic...  \n",
       "1   https://www.data.gov.uk/search?filters%5Btopic...  \n",
       "2   https://www.data.gov.uk/search?filters%5Btopic...  \n",
       "3   https://www.data.gov.uk/search?filters%5Btopic...  \n",
       "4   https://www.data.gov.uk/search?filters%5Btopic...  \n",
       "5   https://www.data.gov.uk/search?filters%5Btopic...  \n",
       "6   https://www.data.gov.uk/search?filters%5Btopic...  \n",
       "7   https://www.data.gov.uk/search?filters%5Btopic...  \n",
       "8   https://www.data.gov.uk/search?filters%5Btopic...  \n",
       "9   https://www.data.gov.uk/search?filters%5Btopic...  \n",
       "10  https://www.data.gov.uk/search?filters%5Btopic...  \n",
       "11  https://www.data.gov.uk/search?filters%5Btopic...  \n",
       "12  https://www.data.gov.uk/search?filters%5Btopic...  \n",
       "13  https://www.data.gov.uk/search?filters%5Btopic...  "
      ]
     },
     "execution_count": 18,
     "metadata": {},
     "output_type": "execute_result"
    }
   ],
   "source": [
    "dept = pd.DataFrame({\"Department\":departments,\"Link To Data\":links2})\n",
    "dept"
   ]
  },
  {
   "cell_type": "code",
   "execution_count": null,
   "metadata": {},
   "outputs": [],
   "source": []
  }
 ],
 "metadata": {
  "kernelspec": {
   "display_name": "Python 3 (ipykernel)",
   "language": "python",
   "name": "python3"
  },
  "language_info": {
   "codemirror_mode": {
    "name": "ipython",
    "version": 3
   },
   "file_extension": ".py",
   "mimetype": "text/x-python",
   "name": "python",
   "nbconvert_exporter": "python",
   "pygments_lexer": "ipython3",
   "version": "3.10.9"
  }
 },
 "nbformat": 4,
 "nbformat_minor": 2
}
